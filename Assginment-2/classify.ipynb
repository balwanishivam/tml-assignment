{
 "cells": [
  {
   "cell_type": "code",
   "execution_count": 55,
   "metadata": {},
   "outputs": [],
   "source": [
    "import torch\n",
    "import torch.nn as nn\n",
    "import torch.optim as optim\n",
    "import torchvision.transforms as transforms\n",
    "from torch.utils.data import DataLoader, Dataset\n",
    "from sklearn.cluster import KMeans\n",
    "from sklearn.metrics import normalized_mutual_info_score\n",
    "import numpy as np\n",
    "import matplotlib.pyplot as plt\n",
    "import torch.nn.functional as F\n"
   ]
  },
  {
   "cell_type": "code",
   "execution_count": 43,
   "metadata": {},
   "outputs": [],
   "source": [
    "class TaskDataset(Dataset):\n",
    "    def __init__(self, ids, imgs, labels, transform=None):\n",
    "        self.ids = ids\n",
    "        self.imgs = imgs\n",
    "        self.labels = labels\n",
    "        self.transform = transform\n",
    "\n",
    "\n",
    "    def __getitem__(self, index) -> Tuple[int, torch.Tensor, int]:\n",
    "        id_ = self.ids[index]\n",
    "        img = self.imgs[index]\n",
    "        if self.transform is not None:\n",
    "            img = self.transform(img)\n",
    "            if img.shape[0] == 1:\n",
    "                img = img.repeat(3, 1, 1)\n",
    "        label = int(self.labels[index])\n",
    "        return id_, img, label\n",
    "\n",
    "    def __len__(self):\n",
    "        return len(self.ids)\n"
   ]
  },
  {
   "cell_type": "code",
   "execution_count": 44,
   "metadata": {},
   "outputs": [],
   "source": [
    "transform = transforms.Compose([\n",
    "    transforms.ToTensor(),\n",
    "])\n",
    "dataset = torch.load(\"./ModelStealingPub.pt\")\n",
    "ids = range(len(dataset.imgs))\n",
    "dataset = TaskDataset(ids=ids, imgs=dataset.imgs, labels=dataset.labels, transform=transform)\n",
    "public_dataset = DataLoader(dataset=dataset, batch_size=64, shuffle=True)\n"
   ]
  },
  {
   "cell_type": "code",
   "execution_count": 45,
   "metadata": {},
   "outputs": [],
   "source": [
    "class Encoder(nn.Module):\n",
    "    def __init__(self):\n",
    "        super(Encoder, self).__init__()\n",
    "        self.conv1 = nn.Conv2d(3, 16, 3, stride=2, padding=1)\n",
    "        self.conv2 = nn.Conv2d(16, 32, 3, stride=2, padding=1)\n",
    "        self.fc = nn.Linear(8 * 8 * 32, 64)\n",
    "        \n",
    "    def forward(self, x):\n",
    "        x = torch.relu(self.conv1(x))\n",
    "        x = torch.relu(self.conv2(x))\n",
    "        x = x.view(-1, 8 * 8 * 32)\n",
    "        x = self.fc(x)\n",
    "        return x"
   ]
  },
  {
   "cell_type": "code",
   "execution_count": 47,
   "metadata": {},
   "outputs": [],
   "source": [
    "encoder = Encoder()\n",
    "optimizer = optim.Adam(encoder.parameters(), lr=0.001)"
   ]
  },
  {
   "cell_type": "code",
   "execution_count": 56,
   "metadata": {},
   "outputs": [
    {
     "name": "stdout",
     "output_type": "stream",
     "text": [
      "Epoch [1/10], Average Loss: 1.5760162397771098e-18\n",
      "Epoch [2/10], Average Loss: 1.810558296525421e-18\n",
      "Epoch [3/10], Average Loss: 1.6398018784197367e-18\n",
      "Epoch [4/10], Average Loss: 1.64408775667487e-18\n",
      "Epoch [5/10], Average Loss: 1.5330524303772254e-18\n",
      "Epoch [6/10], Average Loss: 1.5543307159585027e-18\n",
      "Epoch [7/10], Average Loss: 1.6098396396497115e-18\n",
      "Epoch [8/10], Average Loss: 1.656817851159596e-18\n",
      "Epoch [9/10], Average Loss: 1.7647044601216134e-18\n",
      "Epoch [10/10], Average Loss: 1.7337255184956412e-18\n"
     ]
    }
   ],
   "source": [
    "num_epochs = 10\n",
    "for epoch in range(num_epochs):\n",
    "    total_loss = 0.0\n",
    "    for batch_idx, (_,imgs, _) in enumerate(public_dataset):\n",
    "        optimizer.zero_grad()\n",
    "        output = encoder(imgs)\n",
    "        dist_matrix = torch.cdist(output, output, p=2)\n",
    "        true_similarity = torch.exp(-dist_matrix)\n",
    "        true_similarity = true_similarity / torch.sum(true_similarity, dim=1, keepdim=True)\n",
    "        soft_nearest_neighbors = F.softmax(-dist_matrix, dim=1)\n",
    "        \n",
    "        loss = torch.mean(torch.sum((true_similarity - soft_nearest_neighbors) ** 2, dim=1))        \n",
    "        loss.backward()\n",
    "        optimizer.step()\n",
    "        \n",
    "        total_loss += loss.item()\n",
    "    print(f'Epoch [{epoch+1}/{num_epochs}], Average Loss: {total_loss/len(public_dataset.dataset)}')"
   ]
  },
  {
   "cell_type": "code",
   "execution_count": 57,
   "metadata": {},
   "outputs": [],
   "source": [
    "embeddings = []\n",
    "labels = []\n",
    "\n",
    "for batch_idx, (_, imgs, label) in enumerate(public_dataset):\n",
    "    embeddings.append(encoder(imgs).detach().numpy())\n",
    "    labels.append(label.numpy())\n",
    "\n",
    "embeddings = np.concatenate(embeddings)\n",
    "labels = np.concatenate(labels)\n",
    "\n",
    "kmeans = KMeans(n_clusters=10, random_state=0)\n",
    "cluster_ids = kmeans.fit_predict(embeddings)"
   ]
  },
  {
   "cell_type": "code",
   "execution_count": 58,
   "metadata": {},
   "outputs": [
    {
     "name": "stdout",
     "output_type": "stream",
     "text": [
      "[2 9 2 ... 1 6 1]\n"
     ]
    }
   ],
   "source": [
    "print(cluster_ids)"
   ]
  },
  {
   "cell_type": "code",
   "execution_count": 59,
   "metadata": {},
   "outputs": [
    {
     "data": {
      "image/png": "[encoded data removed]",
      "text/plain": [
       "<Figure size 1000x600 with 1 Axes>"
      ]
     },
     "metadata": {},
     "output_type": "display_data"
    }
   ],
   "source": [
    "cluster_label_counts = np.zeros(10)\n",
    "for cluster_id in range(10):\n",
    "    cluster_label_counts[cluster_id] = np.sum(cluster_ids == cluster_id)\n",
    "\n",
    "# Plot the number of images in each cluster label\n",
    "plt.figure(figsize=(10, 6))\n",
    "plt.bar(range(10), cluster_label_counts, tick_label=range(10))\n",
    "plt.xlabel('Cluster Label')\n",
    "plt.ylabel('Number of Images')\n",
    "plt.title('Number of Images in Each Cluster Label')\n",
    "plt.grid(True)\n",
    "plt.show()"
   ]
  },
  {
   "cell_type": "code",
   "execution_count": 60,
   "metadata": {},
   "outputs": [],
   "source": [
    "cluster_buckets = {cluster_id: [] for cluster_id in range(10)}\n",
    "for i in range(len(dataset.imgs)):\n",
    "    cluster_buckets[cluster_ids[i]].append((dataset.imgs[i], dataset.labels[i]))"
   ]
  },
  {
   "cell_type": "code",
   "execution_count": 61,
   "metadata": {},
   "outputs": [
    {
     "name": "stdout",
     "output_type": "stream",
     "text": [
      "Cluster 0: 1644 images\n",
      "Cluster 1: 1582 images\n",
      "Cluster 2: 2517 images\n",
      "Cluster 3: 433 images\n",
      "Cluster 4: 667 images\n",
      "Cluster 5: 337 images\n",
      "Cluster 6: 1330 images\n",
      "Cluster 7: 2795 images\n",
      "Cluster 8: 293 images\n",
      "Cluster 9: 1402 images\n",
      "Total: 13000 images\n"
     ]
    }
   ],
   "source": [
    "total = 0\n",
    "for cluster_id, bucket in cluster_buckets.items():\n",
    "    total += len(bucket)\n",
    "    print(f'Cluster {cluster_id}: {len(bucket)} images')\n",
    "print(f'Total: {total} images')"
   ]
  }
 ],
 "metadata": {
  "kernelspec": {
   "display_name": "Python 3",
   "language": "python",
   "name": "python3"
  },
  "language_info": {
   "codemirror_mode": {
    "name": "ipython",
    "version": 3
   },
   "file_extension": ".py",
   "mimetype": "text/x-python",
   "name": "python",
   "nbconvert_exporter": "python",
   "pygments_lexer": "ipython3",
   "version": "3.9.6"
  }
 },
 "nbformat": 4,
 "nbformat_minor": 2
}
