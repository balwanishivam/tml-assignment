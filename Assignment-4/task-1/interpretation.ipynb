{
 "cells": [
  {
   "cell_type": "code",
   "execution_count": 1,
   "metadata": {},
   "outputs": [],
   "source": [
    "import pandas as pd\n",
    "import matplotlib.pyplot as plt\n",
    "import seaborn as sns"
   ]
  },
  {
   "cell_type": "code",
   "execution_count": 2,
   "metadata": {},
   "outputs": [],
   "source": [
    "imagenet_df = pd.read_csv(\"./result_final/resnet18_24_07_24_15_58/descriptions.csv\")"
   ]
  },
  {
   "cell_type": "code",
   "execution_count": 3,
   "metadata": {},
   "outputs": [
    {
     "name": "stdout",
     "output_type": "stream",
     "text": [
      "    layer  unit description  similarity\n",
      "0  layer3     0    charcoal    0.116852\n",
      "1  layer3     1        mesh    0.154572\n",
      "2  layer3     2  vegetation    0.187653\n",
      "3  layer3     3        leaf    0.340790\n",
      "4  layer3     4      dotted    0.146790\n"
     ]
    }
   ],
   "source": [
    "print(imagenet_df.head())"
   ]
  },
  {
   "cell_type": "code",
   "execution_count": 23,
   "metadata": {},
   "outputs": [],
   "source": [
    "def top_concept_learned_plot(df, name, n=20):\n",
    "    grouped = df.groupby('layer')\n",
    "    for layer, group in grouped:\n",
    "        layer_description_count = group['description'].value_counts().nlargest(n)\n",
    "        plt.figure()\n",
    "        layer_description_count.plot(kind='bar')\n",
    "        plt.xlabel('Description')\n",
    "        plt.ylabel('Count')\n",
    "        plt.title(f'Top {n} Description Count for {layer}')\n",
    "        plt.tight_layout()\n",
    "        plt.savefig(f'./results/{name}_{layer}_concept_plot.png')\n",
    "        plt.close()\n",
    "        "
   ]
  },
  {
   "cell_type": "code",
   "execution_count": 24,
   "metadata": {},
   "outputs": [],
   "source": [
    "def similarity_plot(df, name, n=20):\n",
    "    grouped = df.groupby('layer')\n",
    "    \n",
    "    for layer, group in grouped:\n",
    "        top_n_descriptions = group['description'].value_counts().nlargest(n).index\n",
    "        filtered_group = group[group['description'].isin(top_n_descriptions)]\n",
    "        \n",
    "        plt.figure(figsize=(10, 6))\n",
    "        sns.scatterplot(data=filtered_group, x='unit', y='similarity', hue='description', palette='tab10')\n",
    "        plt.xlabel('Neuron Unit')\n",
    "        plt.ylabel('Similarity Score')\n",
    "        plt.title(f'Scatter Plot of Neurons Similarity Scores by Description - {layer} (Top {n} Concepts)')\n",
    "        plt.legend(title='Description', bbox_to_anchor=(1.05, 1), loc='upper left')\n",
    "        plt.tight_layout()\n",
    "        plt.savefig(f'./results/{name}_{layer}_similarity_plot.png')\n",
    "        plt.close()\n"
   ]
  },
  {
   "cell_type": "code",
   "execution_count": 25,
   "metadata": {},
   "outputs": [],
   "source": [
    "top_concept_learned_plot(imagenet_df, 'imagenet', 20)"
   ]
  },
  {
   "cell_type": "code",
   "execution_count": 26,
   "metadata": {},
   "outputs": [],
   "source": [
    "similarity_plot(imagenet_df, 'imagenet', 20)"
   ]
  },
  {
   "cell_type": "code",
   "execution_count": 20,
   "metadata": {},
   "outputs": [],
   "source": [
    "places365_df = pd.read_csv(\"./result_final/resnet18_places_24_07_24_15_45/descriptions.csv\")"
   ]
  },
  {
   "cell_type": "code",
   "execution_count": 21,
   "metadata": {},
   "outputs": [],
   "source": [
    "top_concept_learned_plot(places365_df, 'places365', 20)"
   ]
  },
  {
   "cell_type": "code",
   "execution_count": 22,
   "metadata": {},
   "outputs": [],
   "source": [
    "similarity_plot(places365_df, 'places365', 20)"
   ]
  }
 ],
 "metadata": {
  "kernelspec": {
   "display_name": "Python 3",
   "language": "python",
   "name": "python3"
  },
  "language_info": {
   "codemirror_mode": {
    "name": "ipython",
    "version": 3
   },
   "file_extension": ".py",
   "mimetype": "text/x-python",
   "name": "python",
   "nbconvert_exporter": "python",
   "pygments_lexer": "ipython3",
   "version": "3.9.6"
  }
 },
 "nbformat": 4,
 "nbformat_minor": 2
}
