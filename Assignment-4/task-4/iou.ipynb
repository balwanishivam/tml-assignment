{
 "cells": [
  {
   "cell_type": "code",
   "execution_count": 6,
   "metadata": {},
   "outputs": [],
   "source": [
    "import numpy as np\n",
    "import cv2  \n",
    "import torch\n",
    "import os"
   ]
  },
  {
   "cell_type": "code",
   "execution_count": 41,
   "metadata": {},
   "outputs": [],
   "source": [
    "\n",
    "def resize_mask(mask, shape):\n",
    "    return cv2.resize(mask, (shape[1], shape[0]), interpolation=cv2.INTER_LINEAR)\n",
    "\n",
    "def convert_to_grayscale(mask):\n",
    "    if len(mask.shape) == 3 and mask.shape[2] == 3:\n",
    "        grayscale_mask = cv2.cvtColor(mask, cv2.COLOR_BGR2GRAY)\n",
    "        return grayscale_mask\n",
    "    return mask\n",
    "\n",
    "def calculate_iou(mask1, mask2):\n",
    "    target_shape = max(mask1.shape, mask2.shape, key=lambda x: x[0] * x[1])\n",
    "\n",
    "    \n",
    "    resized_mask1 = resize_mask(mask1, target_shape)\n",
    "    resized_mask2 = resize_mask(mask2, target_shape)\n",
    "    \n",
    "    \n",
    "    intersection = np.logical_and(resized_mask1, resized_mask2).sum()\n",
    "    union = np.logical_or(resized_mask1, resized_mask2).sum()\n",
    "    iou = intersection / union if union != 0 else 0\n",
    "    \n",
    "    return iou"
   ]
  },
  {
   "cell_type": "code",
   "execution_count": 7,
   "metadata": {},
   "outputs": [],
   "source": [
    "def load_tensors_from_folder(folder_path):\n",
    "    tensor_files = sorted([f for f in os.listdir(folder_path) if f.endswith('.pth')])\n",
    "    tensors = {}\n",
    "    for file in tensor_files:\n",
    "        tensor_path = os.path.join(folder_path, file)\n",
    "        tensors[file] = torch.load(tensor_path)\n",
    "    return tensors"
   ]
  },
  {
   "cell_type": "code",
   "execution_count": 9,
   "metadata": {},
   "outputs": [],
   "source": [
    "tensors1 = load_tensors_from_folder('./lime_masks')\n",
    "tensors2 = load_tensors_from_folder('./gradcam_masks')\n",
    "    \n",
    "# Ensure both folders contain the same files\n",
    "assert tensors1.keys() == tensors2.keys(), \"Folders do not contain the same files\""
   ]
  },
  {
   "cell_type": "code",
   "execution_count": 42,
   "metadata": {},
   "outputs": [
    {
     "name": "stdout",
     "output_type": "stream",
     "text": [
      "IoU for n01443537_goldfish.pth: 0.18485815007554138\n",
      "IoU for n01491361_tiger_shark.pth: 0.2273188830306581\n",
      "IoU for n01608432_kite.pth: 0.17093506230371797\n",
      "IoU for n01616318_vulture.pth: 0.18044872677219545\n",
      "IoU for n01677366_common_iguana.pth: 0.1405877591401718\n",
      "IoU for n02007558_flamingo.pth: 0.1283885668330932\n",
      "IoU for n02018207_American_coot.pth: 0.24490890853530523\n",
      "IoU for n02098286_West_Highland_white_terrier.pth: 0.19151308674627235\n",
      "IoU for n04037443_racer.pth: 0.13805013725026813\n",
      "IoU for n07747607_orange.pth: 0.21358051636260927\n"
     ]
    }
   ],
   "source": [
    "for file in tensors1:\n",
    "    mask1 = tensors1[file].astype('float32')\n",
    "    mask2 = tensors2[file].astype('float32')\n",
    "    mask2 = convert_to_grayscale(mask2)\n",
    "    iou = calculate_iou(mask1, mask2)\n",
    "    print(f\"IoU for {file}: {iou}\")"
   ]
  }
 ],
 "metadata": {
  "kernelspec": {
   "display_name": "Python 3",
   "language": "python",
   "name": "python3"
  },
  "language_info": {
   "codemirror_mode": {
    "name": "ipython",
    "version": 3
   },
   "file_extension": ".py",
   "mimetype": "text/x-python",
   "name": "python",
   "nbconvert_exporter": "python",
   "pygments_lexer": "ipython3",
   "version": "3.9.6"
  }
 },
 "nbformat": 4,
 "nbformat_minor": 2
}
