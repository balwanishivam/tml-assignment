{
 "cells": [
  {
   "cell_type": "code",
   "execution_count": 1,
   "metadata": {},
   "outputs": [],
   "source": [
    "import numpy as np\n",
    "import cv2  \n",
    "import torch\n",
    "import os"
   ]
  },
  {
   "cell_type": "code",
   "execution_count": 3,
   "metadata": {},
   "outputs": [],
   "source": [
    "def resize_mask(mask, shape):\n",
    "    return cv2.resize(mask, (shape[1], shape[0]), interpolation=cv2.INTER_LINEAR)\n",
    "\n",
    "def convert_to_grayscale(mask):\n",
    "    if len(mask.shape) == 3 and mask.shape[2] == 3:\n",
    "        grayscale_mask = cv2.cvtColor(mask, cv2.COLOR_BGR2GRAY)\n",
    "        return grayscale_mask\n",
    "    return mask\n",
    "\n",
    "def calculate_iou(mask1, mask2):\n",
    "    target_shape = max(mask1.shape, mask2.shape, key=lambda x: x[0] * x[1])\n",
    "\n",
    "    \n",
    "    resized_mask1 = resize_mask(mask1, target_shape)\n",
    "    resized_mask2 = resize_mask(mask2, target_shape)\n",
    "    \n",
    "    \n",
    "    intersection = np.logical_and(resized_mask1, resized_mask2).sum()\n",
    "    union = np.logical_or(resized_mask1, resized_mask2).sum()\n",
    "    iou = intersection / union if union != 0 else 0\n",
    "    \n",
    "    return iou"
   ]
  },
  {
   "cell_type": "code",
   "execution_count": 4,
   "metadata": {},
   "outputs": [],
   "source": [
    "def load_tensors_from_folder(folder_path):\n",
    "    tensor_files = sorted([f for f in os.listdir(folder_path) if f.endswith('.pth')])\n",
    "    tensors = {}\n",
    "    for file in tensor_files:\n",
    "        tensor_path = os.path.join(folder_path, file)\n",
    "        tensors[file] = torch.load(tensor_path)\n",
    "    return tensors"
   ]
  },
  {
   "cell_type": "code",
   "execution_count": 12,
   "metadata": {},
   "outputs": [],
   "source": [
    "def load_tensors_from_folders(base_folder):\n",
    "    tensors = {}\n",
    "    for folder_name in os.listdir(base_folder):\n",
    "        folder_path = os.path.join(base_folder, folder_name)\n",
    "        if os.path.isdir(folder_path):\n",
    "            tensor_files = sorted([f for f in os.listdir(folder_path) if f.endswith('.pth')])\n",
    "            for file in tensor_files:\n",
    "                tensor_path = os.path.join(folder_path, file)\n",
    "                tensors[f'{folder_name}.pth'] = torch.load(tensor_path)\n",
    "    return tensors"
   ]
  },
  {
   "cell_type": "code",
   "execution_count": 18,
   "metadata": {},
   "outputs": [],
   "source": [
    "tensors_lime_1 = load_tensors_from_folder('../task-2/results/boundary_1/masks/')"
   ]
  },
  {
   "cell_type": "code",
   "execution_count": 7,
   "metadata": {},
   "outputs": [
    {
     "name": "stdout",
     "output_type": "stream",
     "text": [
      "dict_keys(['n01443537_goldfish.JPEG.pth', 'n01491361_tiger_shark.JPEG.pth', 'n01608432_kite.JPEG.pth', 'n01616318_vulture.JPEG.pth', 'n01677366_common_iguana.JPEG.pth', 'n02007558_flamingo.JPEG.pth', 'n02018207_American_coot.JPEG.pth', 'n02098286_West_Highland_white_terrier.JPEG.pth', 'n04037443_racer.JPEG.pth', 'n07747607_orange.JPEG.pth'])\n"
     ]
    }
   ],
   "source": [
    "print(tensors_lime_1.keys())"
   ]
  },
  {
   "cell_type": "code",
   "execution_count": 19,
   "metadata": {},
   "outputs": [],
   "source": [
    "tensors_lime_2 = load_tensors_from_folder('../task-2/results/boundary_2/masks/')"
   ]
  },
  {
   "cell_type": "code",
   "execution_count": 20,
   "metadata": {},
   "outputs": [
    {
     "name": "stdout",
     "output_type": "stream",
     "text": [
      "dict_keys(['n01608432_kite.JPEG.pth', 'n07747607_orange.JPEG.pth', 'n01616318_vulture.JPEG.pth', 'n02098286_West_Highland_white_terrier.JPEG.pth', 'n01491361_tiger_shark.JPEG.pth', 'n02018207_American_coot.JPEG.pth', 'n02007558_flamingo.JPEG.pth', 'n01677366_common_iguana.JPEG.pth', 'n01443537_goldfish.JPEG.pth', 'n04037443_racer.JPEG.pth'])\n"
     ]
    }
   ],
   "source": [
    "tensors_gradcam = load_tensors_from_folders('../task-3/results/gradcam_images/')\n",
    "print(tensors_gradcam.keys())"
   ]
  },
  {
   "cell_type": "code",
   "execution_count": 21,
   "metadata": {},
   "outputs": [],
   "source": [
    "keys = tensors_gradcam.keys()"
   ]
  },
  {
   "cell_type": "code",
   "execution_count": 22,
   "metadata": {},
   "outputs": [],
   "source": [
    "assert tensors_lime_1.keys() == tensors_lime_2.keys() == tensors_gradcam.keys(), \"Keys do not match across tensors.\"\n"
   ]
  },
  {
   "cell_type": "code",
   "execution_count": 23,
   "metadata": {},
   "outputs": [
    {
     "name": "stdout",
     "output_type": "stream",
     "text": [
      "IoU for n01608432_kite.JPEG.pth: 0.31767099545351785\n",
      "IoU for n07747607_orange.JPEG.pth: 0.3878355715437891\n",
      "IoU for n01616318_vulture.JPEG.pth: 0.39001347310308565\n",
      "IoU for n02098286_West_Highland_white_terrier.JPEG.pth: 0.4457364557145485\n",
      "IoU for n01491361_tiger_shark.JPEG.pth: 0.36643928881741905\n",
      "IoU for n02018207_American_coot.JPEG.pth: 0.4086517513231509\n",
      "IoU for n02007558_flamingo.JPEG.pth: 0.27994839660892\n",
      "IoU for n01677366_common_iguana.JPEG.pth: 0.289376939335342\n",
      "IoU for n01443537_goldfish.JPEG.pth: 0.2827821610430306\n",
      "IoU for n04037443_racer.JPEG.pth: 0.23062286777315227\n"
     ]
    }
   ],
   "source": [
    "for key in keys:\n",
    "    mask1 = tensors_lime_1[key].astype('float32')\n",
    "    mask2 = tensors_gradcam[key].astype('float32')\n",
    "    mask2 = convert_to_grayscale(mask2)\n",
    "    iou = calculate_iou(mask1, mask2)\n",
    "    print(f\"IoU for {key}: {iou}\")"
   ]
  },
  {
   "cell_type": "code",
   "execution_count": 24,
   "metadata": {},
   "outputs": [
    {
     "name": "stdout",
     "output_type": "stream",
     "text": [
      "IoU for n01608432_kite.JPEG.pth: 0.31767099545351785\n",
      "IoU for n07747607_orange.JPEG.pth: 0.3457363050964628\n",
      "IoU for n01616318_vulture.JPEG.pth: 0.3570262780278882\n",
      "IoU for n02098286_West_Highland_white_terrier.JPEG.pth: 0.3845009668302841\n",
      "IoU for n01491361_tiger_shark.JPEG.pth: 0.36643928881741905\n",
      "IoU for n02018207_American_coot.JPEG.pth: 0.3853189643628573\n",
      "IoU for n02007558_flamingo.JPEG.pth: 0.5342803347280335\n",
      "IoU for n01677366_common_iguana.JPEG.pth: 0.289376939335342\n",
      "IoU for n01443537_goldfish.JPEG.pth: 0.2827821610430306\n",
      "IoU for n04037443_racer.JPEG.pth: 0.2281687239057851\n"
     ]
    }
   ],
   "source": [
    "for key in keys:\n",
    "    mask1 = tensors_lime_2[key].astype('float32')\n",
    "    mask2 = tensors_gradcam[key].astype('float32')\n",
    "    mask2 = convert_to_grayscale(mask2)\n",
    "    iou = calculate_iou(mask1, mask2)\n",
    "    print(f\"IoU for {key}: {iou}\")"
   ]
  }
 ],
 "metadata": {
  "kernelspec": {
   "display_name": "Python 3",
   "language": "python",
   "name": "python3"
  },
  "language_info": {
   "codemirror_mode": {
    "name": "ipython",
    "version": 3
   },
   "file_extension": ".py",
   "mimetype": "text/x-python",
   "name": "python",
   "nbconvert_exporter": "python",
   "pygments_lexer": "ipython3",
   "version": "3.9.6"
  }
 },
 "nbformat": 4,
 "nbformat_minor": 2
}
