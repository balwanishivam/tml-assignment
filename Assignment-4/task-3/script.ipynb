{
 "cells": [
  {
   "cell_type": "code",
   "execution_count": 1,
   "metadata": {},
   "outputs": [],
   "source": [
    "import os\n",
    "import subprocess\n"
   ]
  },
  {
   "cell_type": "code",
   "execution_count": 7,
   "metadata": {},
   "outputs": [
    {
     "name": "stdout",
     "output_type": "stream",
     "text": [
      "gradcam for images/n01677366_common_iguana.JPEG\n",
      "Using device \"cpu\" for acceleration\n",
      "(375, 500, 3)\n",
      "results/gradcam_images/n01677366_common_iguana.JPEG/masks.pth\n",
      "gradcam for images/n04037443_racer.JPEG\n",
      "Using device \"cpu\" for acceleration\n",
      "(333, 500, 3)\n",
      "results/gradcam_images/n04037443_racer.JPEG/masks.pth\n",
      "gradcam for images/n02018207_American_coot.JPEG\n",
      "Using device \"cpu\" for acceleration\n",
      "(500, 353, 3)\n",
      "results/gradcam_images/n02018207_American_coot.JPEG/masks.pth\n",
      "gradcam for images/n01608432_kite.JPEG\n",
      "Using device \"cpu\" for acceleration\n",
      "(500, 400, 3)\n",
      "results/gradcam_images/n01608432_kite.JPEG/masks.pth\n",
      "gradcam for images/n07747607_orange.JPEG\n",
      "Using device \"cpu\" for acceleration\n",
      "(500, 332, 3)\n",
      "results/gradcam_images/n07747607_orange.JPEG/masks.pth\n",
      "gradcam for images/n02007558_flamingo.JPEG\n",
      "Using device \"cpu\" for acceleration\n",
      "(478, 500, 3)\n",
      "results/gradcam_images/n02007558_flamingo.JPEG/masks.pth\n",
      "gradcam for images/n01443537_goldfish.JPEG\n",
      "Using device \"cpu\" for acceleration\n",
      "(263, 376, 3)\n",
      "results/gradcam_images/n01443537_goldfish.JPEG/masks.pth\n",
      "gradcam for images/n02098286_West_Highland_white_terrier.JPEG\n",
      "Using device \"cpu\" for acceleration\n",
      "(375, 500, 3)\n",
      "results/gradcam_images/n02098286_West_Highland_white_terrier.JPEG/masks.pth\n",
      "gradcam for images/n01616318_vulture.JPEG\n",
      "Using device \"cpu\" for acceleration\n",
      "(500, 375, 3)\n",
      "results/gradcam_images/n01616318_vulture.JPEG/masks.pth\n",
      "gradcam for images/n01491361_tiger_shark.JPEG\n",
      "Using device \"cpu\" for acceleration\n",
      "(313, 500, 3)\n",
      "results/gradcam_images/n01491361_tiger_shark.JPEG/masks.pth\n",
      "scorecam for images/n01677366_common_iguana.JPEG\n",
      "Using device \"cpu\" for acceleration\n"
     ]
    },
    {
     "name": "stderr",
     "output_type": "stream",
     "text": [
      "100%|██████████| 64/64 [01:47<00:00,  1.68s/it]\n"
     ]
    },
    {
     "name": "stdout",
     "output_type": "stream",
     "text": [
      "(375, 500, 3)\n",
      "results/scorecam_images/n01677366_common_iguana.JPEG/masks.pth\n",
      "scorecam for images/n04037443_racer.JPEG\n",
      "Using device \"cpu\" for acceleration\n"
     ]
    },
    {
     "name": "stderr",
     "output_type": "stream",
     "text": [
      "100%|██████████| 64/64 [01:35<00:00,  1.49s/it]\n"
     ]
    },
    {
     "name": "stdout",
     "output_type": "stream",
     "text": [
      "(333, 500, 3)\n",
      "results/scorecam_images/n04037443_racer.JPEG/masks.pth\n",
      "scorecam for images/n02018207_American_coot.JPEG\n",
      "Using device \"cpu\" for acceleration\n"
     ]
    },
    {
     "name": "stderr",
     "output_type": "stream",
     "text": [
      "100%|██████████| 64/64 [01:43<00:00,  1.62s/it]\n"
     ]
    },
    {
     "name": "stdout",
     "output_type": "stream",
     "text": [
      "(500, 353, 3)\n",
      "results/scorecam_images/n02018207_American_coot.JPEG/masks.pth\n",
      "scorecam for images/n01608432_kite.JPEG\n",
      "Using device \"cpu\" for acceleration\n"
     ]
    },
    {
     "name": "stderr",
     "output_type": "stream",
     "text": [
      "100%|██████████| 64/64 [01:55<00:00,  1.80s/it]\n"
     ]
    },
    {
     "name": "stdout",
     "output_type": "stream",
     "text": [
      "(500, 400, 3)\n",
      "results/scorecam_images/n01608432_kite.JPEG/masks.pth\n",
      "scorecam for images/n07747607_orange.JPEG\n",
      "Using device \"cpu\" for acceleration\n"
     ]
    },
    {
     "name": "stderr",
     "output_type": "stream",
     "text": [
      "100%|██████████| 64/64 [01:34<00:00,  1.48s/it]\n"
     ]
    },
    {
     "name": "stdout",
     "output_type": "stream",
     "text": [
      "(500, 332, 3)\n",
      "results/scorecam_images/n07747607_orange.JPEG/masks.pth\n",
      "scorecam for images/n02007558_flamingo.JPEG\n",
      "Using device \"cpu\" for acceleration\n"
     ]
    },
    {
     "name": "stderr",
     "output_type": "stream",
     "text": [
      "100%|██████████| 64/64 [02:12<00:00,  2.06s/it]\n"
     ]
    },
    {
     "name": "stdout",
     "output_type": "stream",
     "text": [
      "(478, 500, 3)\n",
      "results/scorecam_images/n02007558_flamingo.JPEG/masks.pth\n",
      "scorecam for images/n01443537_goldfish.JPEG\n",
      "Using device \"cpu\" for acceleration\n"
     ]
    },
    {
     "name": "stderr",
     "output_type": "stream",
     "text": [
      "100%|██████████| 64/64 [00:51<00:00,  1.25it/s]\n"
     ]
    },
    {
     "name": "stdout",
     "output_type": "stream",
     "text": [
      "(263, 376, 3)\n",
      "results/scorecam_images/n01443537_goldfish.JPEG/masks.pth\n",
      "scorecam for images/n02098286_West_Highland_white_terrier.JPEG\n",
      "Using device \"cpu\" for acceleration\n"
     ]
    },
    {
     "name": "stderr",
     "output_type": "stream",
     "text": [
      "100%|██████████| 64/64 [01:47<00:00,  1.68s/it]\n"
     ]
    },
    {
     "name": "stdout",
     "output_type": "stream",
     "text": [
      "(375, 500, 3)\n",
      "results/scorecam_images/n02098286_West_Highland_white_terrier.JPEG/masks.pth\n",
      "scorecam for images/n01616318_vulture.JPEG\n",
      "Using device \"cpu\" for acceleration\n"
     ]
    },
    {
     "name": "stderr",
     "output_type": "stream",
     "text": [
      "100%|██████████| 64/64 [01:45<00:00,  1.65s/it]\n"
     ]
    },
    {
     "name": "stdout",
     "output_type": "stream",
     "text": [
      "(500, 375, 3)\n",
      "results/scorecam_images/n01616318_vulture.JPEG/masks.pth\n",
      "scorecam for images/n01491361_tiger_shark.JPEG\n",
      "Using device \"cpu\" for acceleration\n"
     ]
    },
    {
     "name": "stderr",
     "output_type": "stream",
     "text": [
      "100%|██████████| 64/64 [01:29<00:00,  1.40s/it]\n"
     ]
    },
    {
     "name": "stdout",
     "output_type": "stream",
     "text": [
      "(313, 500, 3)\n",
      "results/scorecam_images/n01491361_tiger_shark.JPEG/masks.pth\n",
      "ablationcam for images/n01677366_common_iguana.JPEG\n",
      "Using device \"cpu\" for acceleration\n"
     ]
    },
    {
     "name": "stderr",
     "output_type": "stream",
     "text": [
      "100%|██████████| 64/64 [01:42<00:00,  1.60s/it]\n"
     ]
    },
    {
     "name": "stdout",
     "output_type": "stream",
     "text": [
      "(375, 500, 3)\n",
      "results/ablationcam_images/n01677366_common_iguana.JPEG/masks.pth\n",
      "ablationcam for images/n04037443_racer.JPEG\n",
      "Using device \"cpu\" for acceleration\n"
     ]
    },
    {
     "name": "stderr",
     "output_type": "stream",
     "text": [
      "100%|██████████| 64/64 [01:28<00:00,  1.39s/it]\n"
     ]
    },
    {
     "name": "stdout",
     "output_type": "stream",
     "text": [
      "(333, 500, 3)\n",
      "results/ablationcam_images/n04037443_racer.JPEG/masks.pth\n",
      "ablationcam for images/n02018207_American_coot.JPEG\n",
      "Using device \"cpu\" for acceleration\n"
     ]
    },
    {
     "name": "stderr",
     "output_type": "stream",
     "text": [
      "100%|██████████| 64/64 [01:33<00:00,  1.47s/it]\n"
     ]
    },
    {
     "name": "stdout",
     "output_type": "stream",
     "text": [
      "(500, 353, 3)\n",
      "results/ablationcam_images/n02018207_American_coot.JPEG/masks.pth\n",
      "ablationcam for images/n01608432_kite.JPEG\n",
      "Using device \"cpu\" for acceleration\n"
     ]
    },
    {
     "name": "stderr",
     "output_type": "stream",
     "text": [
      "100%|██████████| 64/64 [01:44<00:00,  1.63s/it]\n"
     ]
    },
    {
     "name": "stdout",
     "output_type": "stream",
     "text": [
      "(500, 400, 3)\n",
      "results/ablationcam_images/n01608432_kite.JPEG/masks.pth\n",
      "ablationcam for images/n07747607_orange.JPEG\n",
      "Using device \"cpu\" for acceleration\n"
     ]
    },
    {
     "name": "stderr",
     "output_type": "stream",
     "text": [
      "100%|██████████| 64/64 [01:27<00:00,  1.36s/it]\n"
     ]
    },
    {
     "name": "stdout",
     "output_type": "stream",
     "text": [
      "(500, 332, 3)\n",
      "results/ablationcam_images/n07747607_orange.JPEG/masks.pth\n",
      "ablationcam for images/n02007558_flamingo.JPEG\n",
      "Using device \"cpu\" for acceleration\n"
     ]
    },
    {
     "name": "stderr",
     "output_type": "stream",
     "text": [
      "100%|██████████| 64/64 [02:04<00:00,  1.94s/it]\n"
     ]
    },
    {
     "name": "stdout",
     "output_type": "stream",
     "text": [
      "(478, 500, 3)\n",
      "results/ablationcam_images/n02007558_flamingo.JPEG/masks.pth\n",
      "ablationcam for images/n01443537_goldfish.JPEG\n",
      "Using device \"cpu\" for acceleration\n"
     ]
    },
    {
     "name": "stderr",
     "output_type": "stream",
     "text": [
      "100%|██████████| 64/64 [00:51<00:00,  1.25it/s]\n"
     ]
    },
    {
     "name": "stdout",
     "output_type": "stream",
     "text": [
      "(263, 376, 3)\n",
      "results/ablationcam_images/n01443537_goldfish.JPEG/masks.pth\n",
      "ablationcam for images/n02098286_West_Highland_white_terrier.JPEG\n",
      "Using device \"cpu\" for acceleration\n"
     ]
    },
    {
     "name": "stderr",
     "output_type": "stream",
     "text": [
      "100%|██████████| 64/64 [01:41<00:00,  1.58s/it]\n"
     ]
    },
    {
     "name": "stdout",
     "output_type": "stream",
     "text": [
      "(375, 500, 3)\n",
      "results/ablationcam_images/n02098286_West_Highland_white_terrier.JPEG/masks.pth\n",
      "ablationcam for images/n01616318_vulture.JPEG\n",
      "Using device \"cpu\" for acceleration\n"
     ]
    },
    {
     "name": "stderr",
     "output_type": "stream",
     "text": [
      "100%|██████████| 64/64 [01:38<00:00,  1.54s/it]\n"
     ]
    },
    {
     "name": "stdout",
     "output_type": "stream",
     "text": [
      "(500, 375, 3)\n",
      "results/ablationcam_images/n01616318_vulture.JPEG/masks.pth\n",
      "ablationcam for images/n01491361_tiger_shark.JPEG\n",
      "Using device \"cpu\" for acceleration\n"
     ]
    },
    {
     "name": "stderr",
     "output_type": "stream",
     "text": [
      "100%|██████████| 64/64 [01:24<00:00,  1.32s/it]\n"
     ]
    },
    {
     "name": "stdout",
     "output_type": "stream",
     "text": [
      "(313, 500, 3)\n",
      "results/ablationcam_images/n01491361_tiger_shark.JPEG/masks.pth\n"
     ]
    }
   ],
   "source": [
    "for method in ('gradcam', 'scorecam', 'ablationcam'):\n",
    "    for image_filename in os.listdir(\"./images\"):\n",
    "        if image_filename.endswith(('.png', '.jpg', '.jpeg', 'JPEG')):\n",
    "            image_path = os.path.join(\"images\", image_filename)\n",
    "            print(f'{method} for {image_path}')\n",
    "            output_dir = f'results/{method}_images/{image_filename}'\n",
    "            if not os.path.exists(output_dir):\n",
    "                os.makedirs(output_dir)\n",
    "            subprocess.run([\n",
    "                'python', 'cam.py',\n",
    "                '--image-path', image_path,\n",
    "                '--method', method,\n",
    "                '--output-dir', output_dir,\n",
    "            ])"
   ]
  },
  {
   "cell_type": "code",
   "execution_count": null,
   "metadata": {},
   "outputs": [],
   "source": []
  }
 ],
 "metadata": {
  "kernelspec": {
   "display_name": "base",
   "language": "python",
   "name": "python3"
  },
  "language_info": {
   "codemirror_mode": {
    "name": "ipython",
    "version": 3
   },
   "file_extension": ".py",
   "mimetype": "text/x-python",
   "name": "python",
   "nbconvert_exporter": "python",
   "pygments_lexer": "ipython3",
   "version": "3.10.13"
  }
 },
 "nbformat": 4,
 "nbformat_minor": 2
}
